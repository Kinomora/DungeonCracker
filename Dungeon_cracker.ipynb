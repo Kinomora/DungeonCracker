{
  "nbformat": 4,
  "nbformat_minor": 0,
  "metadata": {
    "colab": {
      "name": "Dungeon cracker.ipynb",
      "provenance": []
    },
    "kernelspec": {
      "name": "python3",
      "display_name": "Python 3"
    }
  },
  "cells": [
    {
      "cell_type": "markdown",
      "metadata": {
        "id": "RQdhxhOhi-V_",
        "colab_type": "text"
      },
      "source": [
        "# RUN THIS BEFORE ANYTHING"
      ]
    },
    {
      "cell_type": "code",
      "metadata": {
        "id": "n4WmIvuwc6JB",
        "colab_type": "code",
        "colab": {}
      },
      "source": [
        "!rm *.jar\n",
        "!wget https://github.com/hube12/DungeonCracker/releases/download/0.1/DungeonCracker15-0.1.0.jar > /dev/null 2>&1\n",
        "!wget https://github.com/hube12/DungeonCracker/releases/download/0.1/DungeonCracker14-0.1.0.jar > /dev/null 2>&1"
      ],
      "execution_count": 0,
      "outputs": []
    },
    {
      "cell_type": "markdown",
      "metadata": {
        "id": "3QA6IqGQjB0I",
        "colab_type": "text"
      },
      "source": [
        "# Run 1.15"
      ]
    },
    {
      "cell_type": "code",
      "metadata": {
        "id": "0FpkkL-Sc_iB",
        "colab_type": "code",
        "colab": {}
      },
      "source": [
        "!java -jar DungeonCracker15-0.1.0.jar"
      ],
      "execution_count": 0,
      "outputs": []
    },
    {
      "cell_type": "markdown",
      "metadata": {
        "id": "YTqBouGvjDvY",
        "colab_type": "text"
      },
      "source": [
        "# Run 1.14"
      ]
    },
    {
      "cell_type": "code",
      "metadata": {
        "id": "qGff7ek0dDqd",
        "colab_type": "code",
        "colab": {}
      },
      "source": [
        "!java -jar DungeonCracker14-0.1.0.jar"
      ],
      "execution_count": 0,
      "outputs": []
    }
  ]
}